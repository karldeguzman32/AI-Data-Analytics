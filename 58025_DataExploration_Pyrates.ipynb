{
  "nbformat": 4,
  "nbformat_minor": 0,
  "metadata": {
    "colab": {
      "name": "58025_DataExploration_Pyrates",
      "provenance": [],
      "authorship_tag": "ABX9TyMxht0A/AmFOGg2BAyTW/jc",
      "include_colab_link": true
    },
    "kernelspec": {
      "name": "python3",
      "display_name": "Python 3"
    },
    "language_info": {
      "name": "python"
    }
  },
  "cells": [
    {
      "cell_type": "markdown",
      "metadata": {
        "id": "view-in-github",
        "colab_type": "text"
      },
      "source": [
        "<a href=\"https://colab.research.google.com/github/karldeguzman32/AI-Data-Analytics/blob/main/58025_DataExploration_Pyrates.ipynb\" target=\"_parent\"><img src=\"https://colab.research.google.com/assets/colab-badge.svg\" alt=\"Open In Colab\"/></a>"
      ]
    },
    {
      "cell_type": "markdown",
      "metadata": {
        "id": "DqDMpkhsrBAk"
      },
      "source": [
        "# **Welcome to the Pyrate Ship, Ahoy!** 🏴‍☠️\n",
        "![pyrate](https://github.com/karldeguzman32/Pyrates-AIDA/blob/main/Pyrate.png?raw=true)\n",
        "##***Pirate Crew*** 🦜\n",
        "#####Captain: Karl Adrian de Guzman\n",
        "Quartermasters: \n",
        "Ed Mark David, Lino Carlo Gamban, Khent Harvey Lachica\n",
        "\n",
        "---\n",
        "\n",
        "\n",
        "\n"
      ]
    },
    {
      "cell_type": "markdown",
      "metadata": {
        "id": "XWBkjkERsOJA"
      },
      "source": [
        "#International Energy Statistics \n",
        "##1990-2014"
      ]
    },
    {
      "cell_type": "code",
      "metadata": {
        "id": "W2We3G4cbq9P"
      },
      "source": [
        "import numpy as np\n",
        "import pandas as pd\n",
        "import matplotlib.pyplot as plt"
      ],
      "execution_count": 25,
      "outputs": []
    },
    {
      "cell_type": "code",
      "metadata": {
        "id": "7Lq68JDLccmU",
        "colab": {
          "base_uri": "https://localhost:8080/",
          "height": 407
        },
        "outputId": "710eac55-81b8-4b74-a954-804dab76da1c"
      },
      "source": [
        "#importing CSV data as DataFrame\n",
        "ies_df = pd.read_csv(\"all_energy_statistics.csv\")\n",
        "ies_df"
      ],
      "execution_count": 33,
      "outputs": [
        {
          "output_type": "execute_result",
          "data": {
            "text/html": [
              "<div>\n",
              "<style scoped>\n",
              "    .dataframe tbody tr th:only-of-type {\n",
              "        vertical-align: middle;\n",
              "    }\n",
              "\n",
              "    .dataframe tbody tr th {\n",
              "        vertical-align: top;\n",
              "    }\n",
              "\n",
              "    .dataframe thead th {\n",
              "        text-align: right;\n",
              "    }\n",
              "</style>\n",
              "<table border=\"1\" class=\"dataframe\">\n",
              "  <thead>\n",
              "    <tr style=\"text-align: right;\">\n",
              "      <th></th>\n",
              "      <th>country_or_area</th>\n",
              "      <th>commodity_transaction</th>\n",
              "      <th>year</th>\n",
              "      <th>unit</th>\n",
              "      <th>quantity</th>\n",
              "      <th>quantity_footnotes</th>\n",
              "      <th>category</th>\n",
              "    </tr>\n",
              "  </thead>\n",
              "  <tbody>\n",
              "    <tr>\n",
              "      <th>0</th>\n",
              "      <td>Austria</td>\n",
              "      <td>Additives and Oxygenates - Exports</td>\n",
              "      <td>1996</td>\n",
              "      <td>Metric tons,  thousand</td>\n",
              "      <td>5.0</td>\n",
              "      <td>NaN</td>\n",
              "      <td>additives_and_oxygenates</td>\n",
              "    </tr>\n",
              "    <tr>\n",
              "      <th>1</th>\n",
              "      <td>Austria</td>\n",
              "      <td>Additives and Oxygenates - Exports</td>\n",
              "      <td>1995</td>\n",
              "      <td>Metric tons,  thousand</td>\n",
              "      <td>17.0</td>\n",
              "      <td>NaN</td>\n",
              "      <td>additives_and_oxygenates</td>\n",
              "    </tr>\n",
              "    <tr>\n",
              "      <th>2</th>\n",
              "      <td>Belgium</td>\n",
              "      <td>Additives and Oxygenates - Exports</td>\n",
              "      <td>2014</td>\n",
              "      <td>Metric tons,  thousand</td>\n",
              "      <td>0.0</td>\n",
              "      <td>NaN</td>\n",
              "      <td>additives_and_oxygenates</td>\n",
              "    </tr>\n",
              "    <tr>\n",
              "      <th>3</th>\n",
              "      <td>Belgium</td>\n",
              "      <td>Additives and Oxygenates - Exports</td>\n",
              "      <td>2013</td>\n",
              "      <td>Metric tons,  thousand</td>\n",
              "      <td>0.0</td>\n",
              "      <td>NaN</td>\n",
              "      <td>additives_and_oxygenates</td>\n",
              "    </tr>\n",
              "    <tr>\n",
              "      <th>4</th>\n",
              "      <td>Belgium</td>\n",
              "      <td>Additives and Oxygenates - Exports</td>\n",
              "      <td>2012</td>\n",
              "      <td>Metric tons,  thousand</td>\n",
              "      <td>35.0</td>\n",
              "      <td>NaN</td>\n",
              "      <td>additives_and_oxygenates</td>\n",
              "    </tr>\n",
              "    <tr>\n",
              "      <th>...</th>\n",
              "      <td>...</td>\n",
              "      <td>...</td>\n",
              "      <td>...</td>\n",
              "      <td>...</td>\n",
              "      <td>...</td>\n",
              "      <td>...</td>\n",
              "      <td>...</td>\n",
              "    </tr>\n",
              "    <tr>\n",
              "      <th>1189477</th>\n",
              "      <td>Viet Nam</td>\n",
              "      <td>Electricity - total wind production</td>\n",
              "      <td>2012</td>\n",
              "      <td>Kilowatt-hours, million</td>\n",
              "      <td>92.0</td>\n",
              "      <td>1.0</td>\n",
              "      <td>wind_electricity</td>\n",
              "    </tr>\n",
              "    <tr>\n",
              "      <th>1189478</th>\n",
              "      <td>Viet Nam</td>\n",
              "      <td>Electricity - total wind production</td>\n",
              "      <td>2011</td>\n",
              "      <td>Kilowatt-hours, million</td>\n",
              "      <td>87.0</td>\n",
              "      <td>NaN</td>\n",
              "      <td>wind_electricity</td>\n",
              "    </tr>\n",
              "    <tr>\n",
              "      <th>1189479</th>\n",
              "      <td>Viet Nam</td>\n",
              "      <td>Electricity - total wind production</td>\n",
              "      <td>2010</td>\n",
              "      <td>Kilowatt-hours, million</td>\n",
              "      <td>50.0</td>\n",
              "      <td>NaN</td>\n",
              "      <td>wind_electricity</td>\n",
              "    </tr>\n",
              "    <tr>\n",
              "      <th>1189480</th>\n",
              "      <td>Viet Nam</td>\n",
              "      <td>Electricity - total wind production</td>\n",
              "      <td>2009</td>\n",
              "      <td>Kilowatt-hours, million</td>\n",
              "      <td>10.0</td>\n",
              "      <td>NaN</td>\n",
              "      <td>wind_electricity</td>\n",
              "    </tr>\n",
              "    <tr>\n",
              "      <th>1189481</th>\n",
              "      <td>Viet Nam</td>\n",
              "      <td>Electricity - total wind production</td>\n",
              "      <td>2008</td>\n",
              "      <td>Kilowatt-hours, million</td>\n",
              "      <td>1.0</td>\n",
              "      <td>NaN</td>\n",
              "      <td>wind_electricity</td>\n",
              "    </tr>\n",
              "  </tbody>\n",
              "</table>\n",
              "<p>1189482 rows × 7 columns</p>\n",
              "</div>"
            ],
            "text/plain": [
              "        country_or_area  ...                  category\n",
              "0               Austria  ...  additives_and_oxygenates\n",
              "1               Austria  ...  additives_and_oxygenates\n",
              "2               Belgium  ...  additives_and_oxygenates\n",
              "3               Belgium  ...  additives_and_oxygenates\n",
              "4               Belgium  ...  additives_and_oxygenates\n",
              "...                 ...  ...                       ...\n",
              "1189477        Viet Nam  ...          wind_electricity\n",
              "1189478        Viet Nam  ...          wind_electricity\n",
              "1189479        Viet Nam  ...          wind_electricity\n",
              "1189480        Viet Nam  ...          wind_electricity\n",
              "1189481        Viet Nam  ...          wind_electricity\n",
              "\n",
              "[1189482 rows x 7 columns]"
            ]
          },
          "metadata": {
            "tags": []
          },
          "execution_count": 33
        }
      ]
    },
    {
      "cell_type": "code",
      "metadata": {
        "colab": {
          "base_uri": "https://localhost:8080/"
        },
        "id": "HgWiMMD9t7iI",
        "outputId": "4e70cc99-6d9f-41ae-fb93-44877e5f9c92"
      },
      "source": [
        "#number of dimensions\n",
        "ies_df.ndim"
      ],
      "execution_count": 76,
      "outputs": [
        {
          "output_type": "execute_result",
          "data": {
            "text/plain": [
              "2"
            ]
          },
          "metadata": {
            "tags": []
          },
          "execution_count": 76
        }
      ]
    },
    {
      "cell_type": "code",
      "metadata": {
        "colab": {
          "base_uri": "https://localhost:8080/"
        },
        "id": "Z72jQMgot29w",
        "outputId": "bd42e155-a3dd-4b24-9693-8871965ea168"
      },
      "source": [
        "#number of rows and cols\n",
        "ies_df.shape"
      ],
      "execution_count": 74,
      "outputs": [
        {
          "output_type": "execute_result",
          "data": {
            "text/plain": [
              "(1189482, 7)"
            ]
          },
          "metadata": {
            "tags": []
          },
          "execution_count": 74
        }
      ]
    },
    {
      "cell_type": "code",
      "metadata": {
        "colab": {
          "base_uri": "https://localhost:8080/"
        },
        "id": "x3W3PfxUtZO4",
        "outputId": "4ceab467-1a00-4403-9c96-16aaf87fc4be"
      },
      "source": [
        "#show the features of the dataset\n",
        "ies_df.columns"
      ],
      "execution_count": 71,
      "outputs": [
        {
          "output_type": "execute_result",
          "data": {
            "text/plain": [
              "Index(['country_or_area', 'commodity_transaction', 'year', 'unit', 'quantity',\n",
              "       'quantity_footnotes', 'category'],\n",
              "      dtype='object')"
            ]
          },
          "metadata": {
            "tags": []
          },
          "execution_count": 71
        }
      ]
    },
    {
      "cell_type": "code",
      "metadata": {
        "colab": {
          "base_uri": "https://localhost:8080/"
        },
        "id": "XXhssnWHtdqd",
        "outputId": "bad1954e-127b-47ba-c0ca-c4dea0f6b5c3"
      },
      "source": [
        "#show the range of the index\n",
        "ies_df.index"
      ],
      "execution_count": 73,
      "outputs": [
        {
          "output_type": "execute_result",
          "data": {
            "text/plain": [
              "RangeIndex(start=0, stop=1189482, step=1)"
            ]
          },
          "metadata": {
            "tags": []
          },
          "execution_count": 73
        }
      ]
    },
    {
      "cell_type": "code",
      "metadata": {
        "colab": {
          "base_uri": "https://localhost:8080/",
          "height": 198
        },
        "id": "-c_VgTD3ngUS",
        "outputId": "4eab638f-152e-4834-d7f3-a6291f010c38"
      },
      "source": [
        "#show the first few data\n",
        "ies_df.head()"
      ],
      "execution_count": 70,
      "outputs": [
        {
          "output_type": "execute_result",
          "data": {
            "text/html": [
              "<div>\n",
              "<style scoped>\n",
              "    .dataframe tbody tr th:only-of-type {\n",
              "        vertical-align: middle;\n",
              "    }\n",
              "\n",
              "    .dataframe tbody tr th {\n",
              "        vertical-align: top;\n",
              "    }\n",
              "\n",
              "    .dataframe thead th {\n",
              "        text-align: right;\n",
              "    }\n",
              "</style>\n",
              "<table border=\"1\" class=\"dataframe\">\n",
              "  <thead>\n",
              "    <tr style=\"text-align: right;\">\n",
              "      <th></th>\n",
              "      <th>country_or_area</th>\n",
              "      <th>commodity_transaction</th>\n",
              "      <th>year</th>\n",
              "      <th>unit</th>\n",
              "      <th>quantity</th>\n",
              "      <th>quantity_footnotes</th>\n",
              "      <th>category</th>\n",
              "    </tr>\n",
              "  </thead>\n",
              "  <tbody>\n",
              "    <tr>\n",
              "      <th>0</th>\n",
              "      <td>Austria</td>\n",
              "      <td>Additives and Oxygenates - Exports</td>\n",
              "      <td>1996</td>\n",
              "      <td>Metric tons,  thousand</td>\n",
              "      <td>5.0</td>\n",
              "      <td>NaN</td>\n",
              "      <td>additives_and_oxygenates</td>\n",
              "    </tr>\n",
              "    <tr>\n",
              "      <th>1</th>\n",
              "      <td>Austria</td>\n",
              "      <td>Additives and Oxygenates - Exports</td>\n",
              "      <td>1995</td>\n",
              "      <td>Metric tons,  thousand</td>\n",
              "      <td>17.0</td>\n",
              "      <td>NaN</td>\n",
              "      <td>additives_and_oxygenates</td>\n",
              "    </tr>\n",
              "    <tr>\n",
              "      <th>2</th>\n",
              "      <td>Belgium</td>\n",
              "      <td>Additives and Oxygenates - Exports</td>\n",
              "      <td>2014</td>\n",
              "      <td>Metric tons,  thousand</td>\n",
              "      <td>0.0</td>\n",
              "      <td>NaN</td>\n",
              "      <td>additives_and_oxygenates</td>\n",
              "    </tr>\n",
              "    <tr>\n",
              "      <th>3</th>\n",
              "      <td>Belgium</td>\n",
              "      <td>Additives and Oxygenates - Exports</td>\n",
              "      <td>2013</td>\n",
              "      <td>Metric tons,  thousand</td>\n",
              "      <td>0.0</td>\n",
              "      <td>NaN</td>\n",
              "      <td>additives_and_oxygenates</td>\n",
              "    </tr>\n",
              "    <tr>\n",
              "      <th>4</th>\n",
              "      <td>Belgium</td>\n",
              "      <td>Additives and Oxygenates - Exports</td>\n",
              "      <td>2012</td>\n",
              "      <td>Metric tons,  thousand</td>\n",
              "      <td>35.0</td>\n",
              "      <td>NaN</td>\n",
              "      <td>additives_and_oxygenates</td>\n",
              "    </tr>\n",
              "  </tbody>\n",
              "</table>\n",
              "</div>"
            ],
            "text/plain": [
              "  country_or_area  ...                  category\n",
              "0         Austria  ...  additives_and_oxygenates\n",
              "1         Austria  ...  additives_and_oxygenates\n",
              "2         Belgium  ...  additives_and_oxygenates\n",
              "3         Belgium  ...  additives_and_oxygenates\n",
              "4         Belgium  ...  additives_and_oxygenates\n",
              "\n",
              "[5 rows x 7 columns]"
            ]
          },
          "metadata": {
            "tags": []
          },
          "execution_count": 70
        }
      ]
    },
    {
      "cell_type": "code",
      "metadata": {
        "colab": {
          "base_uri": "https://localhost:8080/",
          "height": 198
        },
        "id": "E0UXpJcaofaP",
        "outputId": "e1cb3037-f02f-4d51-a8ad-9cc6c5c6b37b"
      },
      "source": [
        "#show the last few data\n",
        "ies_df.tail()"
      ],
      "execution_count": 77,
      "outputs": [
        {
          "output_type": "execute_result",
          "data": {
            "text/html": [
              "<div>\n",
              "<style scoped>\n",
              "    .dataframe tbody tr th:only-of-type {\n",
              "        vertical-align: middle;\n",
              "    }\n",
              "\n",
              "    .dataframe tbody tr th {\n",
              "        vertical-align: top;\n",
              "    }\n",
              "\n",
              "    .dataframe thead th {\n",
              "        text-align: right;\n",
              "    }\n",
              "</style>\n",
              "<table border=\"1\" class=\"dataframe\">\n",
              "  <thead>\n",
              "    <tr style=\"text-align: right;\">\n",
              "      <th></th>\n",
              "      <th>country_or_area</th>\n",
              "      <th>commodity_transaction</th>\n",
              "      <th>year</th>\n",
              "      <th>unit</th>\n",
              "      <th>quantity</th>\n",
              "      <th>quantity_footnotes</th>\n",
              "      <th>category</th>\n",
              "    </tr>\n",
              "  </thead>\n",
              "  <tbody>\n",
              "    <tr>\n",
              "      <th>1189477</th>\n",
              "      <td>Viet Nam</td>\n",
              "      <td>Electricity - total wind production</td>\n",
              "      <td>2012</td>\n",
              "      <td>Kilowatt-hours, million</td>\n",
              "      <td>92.0</td>\n",
              "      <td>1.0</td>\n",
              "      <td>wind_electricity</td>\n",
              "    </tr>\n",
              "    <tr>\n",
              "      <th>1189478</th>\n",
              "      <td>Viet Nam</td>\n",
              "      <td>Electricity - total wind production</td>\n",
              "      <td>2011</td>\n",
              "      <td>Kilowatt-hours, million</td>\n",
              "      <td>87.0</td>\n",
              "      <td>NaN</td>\n",
              "      <td>wind_electricity</td>\n",
              "    </tr>\n",
              "    <tr>\n",
              "      <th>1189479</th>\n",
              "      <td>Viet Nam</td>\n",
              "      <td>Electricity - total wind production</td>\n",
              "      <td>2010</td>\n",
              "      <td>Kilowatt-hours, million</td>\n",
              "      <td>50.0</td>\n",
              "      <td>NaN</td>\n",
              "      <td>wind_electricity</td>\n",
              "    </tr>\n",
              "    <tr>\n",
              "      <th>1189480</th>\n",
              "      <td>Viet Nam</td>\n",
              "      <td>Electricity - total wind production</td>\n",
              "      <td>2009</td>\n",
              "      <td>Kilowatt-hours, million</td>\n",
              "      <td>10.0</td>\n",
              "      <td>NaN</td>\n",
              "      <td>wind_electricity</td>\n",
              "    </tr>\n",
              "    <tr>\n",
              "      <th>1189481</th>\n",
              "      <td>Viet Nam</td>\n",
              "      <td>Electricity - total wind production</td>\n",
              "      <td>2008</td>\n",
              "      <td>Kilowatt-hours, million</td>\n",
              "      <td>1.0</td>\n",
              "      <td>NaN</td>\n",
              "      <td>wind_electricity</td>\n",
              "    </tr>\n",
              "  </tbody>\n",
              "</table>\n",
              "</div>"
            ],
            "text/plain": [
              "        country_or_area  ...          category\n",
              "1189477        Viet Nam  ...  wind_electricity\n",
              "1189478        Viet Nam  ...  wind_electricity\n",
              "1189479        Viet Nam  ...  wind_electricity\n",
              "1189480        Viet Nam  ...  wind_electricity\n",
              "1189481        Viet Nam  ...  wind_electricity\n",
              "\n",
              "[5 rows x 7 columns]"
            ]
          },
          "metadata": {
            "tags": []
          },
          "execution_count": 77
        }
      ]
    },
    {
      "cell_type": "code",
      "metadata": {
        "colab": {
          "base_uri": "https://localhost:8080/",
          "height": 288
        },
        "id": "pihrodGwoiLq",
        "outputId": "04b43056-39ce-40b0-b908-4336dbb21726"
      },
      "source": [
        "#show the intial summary statistics of the dataset\n",
        "ies_df.describe()"
      ],
      "execution_count": 78,
      "outputs": [
        {
          "output_type": "execute_result",
          "data": {
            "text/html": [
              "<div>\n",
              "<style scoped>\n",
              "    .dataframe tbody tr th:only-of-type {\n",
              "        vertical-align: middle;\n",
              "    }\n",
              "\n",
              "    .dataframe tbody tr th {\n",
              "        vertical-align: top;\n",
              "    }\n",
              "\n",
              "    .dataframe thead th {\n",
              "        text-align: right;\n",
              "    }\n",
              "</style>\n",
              "<table border=\"1\" class=\"dataframe\">\n",
              "  <thead>\n",
              "    <tr style=\"text-align: right;\">\n",
              "      <th></th>\n",
              "      <th>year</th>\n",
              "      <th>quantity</th>\n",
              "      <th>quantity_footnotes</th>\n",
              "    </tr>\n",
              "  </thead>\n",
              "  <tbody>\n",
              "    <tr>\n",
              "      <th>count</th>\n",
              "      <td>1.189482e+06</td>\n",
              "      <td>1.189482e+06</td>\n",
              "      <td>163946.0</td>\n",
              "    </tr>\n",
              "    <tr>\n",
              "      <th>mean</th>\n",
              "      <td>2.002852e+03</td>\n",
              "      <td>1.842648e+05</td>\n",
              "      <td>1.0</td>\n",
              "    </tr>\n",
              "    <tr>\n",
              "      <th>std</th>\n",
              "      <td>7.167345e+00</td>\n",
              "      <td>1.585663e+07</td>\n",
              "      <td>0.0</td>\n",
              "    </tr>\n",
              "    <tr>\n",
              "      <th>min</th>\n",
              "      <td>1.990000e+03</td>\n",
              "      <td>-8.643480e+05</td>\n",
              "      <td>1.0</td>\n",
              "    </tr>\n",
              "    <tr>\n",
              "      <th>25%</th>\n",
              "      <td>1.997000e+03</td>\n",
              "      <td>1.400000e+01</td>\n",
              "      <td>1.0</td>\n",
              "    </tr>\n",
              "    <tr>\n",
              "      <th>50%</th>\n",
              "      <td>2.003000e+03</td>\n",
              "      <td>1.890000e+02</td>\n",
              "      <td>1.0</td>\n",
              "    </tr>\n",
              "    <tr>\n",
              "      <th>75%</th>\n",
              "      <td>2.009000e+03</td>\n",
              "      <td>2.265000e+03</td>\n",
              "      <td>1.0</td>\n",
              "    </tr>\n",
              "    <tr>\n",
              "      <th>max</th>\n",
              "      <td>2.014000e+03</td>\n",
              "      <td>6.680329e+09</td>\n",
              "      <td>1.0</td>\n",
              "    </tr>\n",
              "  </tbody>\n",
              "</table>\n",
              "</div>"
            ],
            "text/plain": [
              "               year      quantity  quantity_footnotes\n",
              "count  1.189482e+06  1.189482e+06            163946.0\n",
              "mean   2.002852e+03  1.842648e+05                 1.0\n",
              "std    7.167345e+00  1.585663e+07                 0.0\n",
              "min    1.990000e+03 -8.643480e+05                 1.0\n",
              "25%    1.997000e+03  1.400000e+01                 1.0\n",
              "50%    2.003000e+03  1.890000e+02                 1.0\n",
              "75%    2.009000e+03  2.265000e+03                 1.0\n",
              "max    2.014000e+03  6.680329e+09                 1.0"
            ]
          },
          "metadata": {
            "tags": []
          },
          "execution_count": 78
        }
      ]
    },
    {
      "cell_type": "code",
      "metadata": {
        "colab": {
          "base_uri": "https://localhost:8080/"
        },
        "id": "EXQCoCZEolqt",
        "outputId": "370cd65e-3289-451b-f738-f3b515555454"
      },
      "source": [
        "#show the information of the DataFrame\n",
        "ies_df.info()"
      ],
      "execution_count": 79,
      "outputs": [
        {
          "output_type": "stream",
          "text": [
            "<class 'pandas.core.frame.DataFrame'>\n",
            "RangeIndex: 1189482 entries, 0 to 1189481\n",
            "Data columns (total 7 columns):\n",
            " #   Column                 Non-Null Count    Dtype  \n",
            "---  ------                 --------------    -----  \n",
            " 0   country_or_area        1189482 non-null  object \n",
            " 1   commodity_transaction  1189482 non-null  object \n",
            " 2   year                   1189482 non-null  int64  \n",
            " 3   unit                   1189482 non-null  object \n",
            " 4   quantity               1189482 non-null  float64\n",
            " 5   quantity_footnotes     163946 non-null   float64\n",
            " 6   category               1189482 non-null  object \n",
            "dtypes: float64(2), int64(1), object(4)\n",
            "memory usage: 63.5+ MB\n"
          ],
          "name": "stdout"
        }
      ]
    },
    {
      "cell_type": "markdown",
      "metadata": {
        "id": "EinVagnOukN8"
      },
      "source": [
        "#Electricity Production in the Philippines"
      ]
    },
    {
      "cell_type": "code",
      "metadata": {
        "colab": {
          "base_uri": "https://localhost:8080/",
          "height": 407
        },
        "id": "H8yUjtX-c3BO",
        "outputId": "93a5fefe-9873-41d4-cfef-7c2661a3277b"
      },
      "source": [
        "philippines_df = ies_df[ies_df[\"country_or_area\"]==\"Philippines\"]\n",
        "philippines_df"
      ],
      "execution_count": 48,
      "outputs": [
        {
          "output_type": "execute_result",
          "data": {
            "text/html": [
              "<div>\n",
              "<style scoped>\n",
              "    .dataframe tbody tr th:only-of-type {\n",
              "        vertical-align: middle;\n",
              "    }\n",
              "\n",
              "    .dataframe tbody tr th {\n",
              "        vertical-align: top;\n",
              "    }\n",
              "\n",
              "    .dataframe thead th {\n",
              "        text-align: right;\n",
              "    }\n",
              "</style>\n",
              "<table border=\"1\" class=\"dataframe\">\n",
              "  <thead>\n",
              "    <tr style=\"text-align: right;\">\n",
              "      <th></th>\n",
              "      <th>country_or_area</th>\n",
              "      <th>commodity_transaction</th>\n",
              "      <th>year</th>\n",
              "      <th>unit</th>\n",
              "      <th>quantity</th>\n",
              "      <th>quantity_footnotes</th>\n",
              "      <th>category</th>\n",
              "    </tr>\n",
              "  </thead>\n",
              "  <tbody>\n",
              "    <tr>\n",
              "      <th>3051</th>\n",
              "      <td>Philippines</td>\n",
              "      <td>Animal waste - Consumption by food and tobacco</td>\n",
              "      <td>2014</td>\n",
              "      <td>Terajoules</td>\n",
              "      <td>176.80</td>\n",
              "      <td>NaN</td>\n",
              "      <td>animal_waste</td>\n",
              "    </tr>\n",
              "    <tr>\n",
              "      <th>3052</th>\n",
              "      <td>Philippines</td>\n",
              "      <td>Animal waste - Consumption by food and tobacco</td>\n",
              "      <td>2013</td>\n",
              "      <td>Terajoules</td>\n",
              "      <td>171.36</td>\n",
              "      <td>NaN</td>\n",
              "      <td>animal_waste</td>\n",
              "    </tr>\n",
              "    <tr>\n",
              "      <th>3053</th>\n",
              "      <td>Philippines</td>\n",
              "      <td>Animal waste - Consumption by food and tobacco</td>\n",
              "      <td>2012</td>\n",
              "      <td>Terajoules</td>\n",
              "      <td>165.92</td>\n",
              "      <td>NaN</td>\n",
              "      <td>animal_waste</td>\n",
              "    </tr>\n",
              "    <tr>\n",
              "      <th>3054</th>\n",
              "      <td>Philippines</td>\n",
              "      <td>Animal waste - Consumption by food and tobacco</td>\n",
              "      <td>2011</td>\n",
              "      <td>Terajoules</td>\n",
              "      <td>163.20</td>\n",
              "      <td>NaN</td>\n",
              "      <td>animal_waste</td>\n",
              "    </tr>\n",
              "    <tr>\n",
              "      <th>3055</th>\n",
              "      <td>Philippines</td>\n",
              "      <td>Animal waste - Consumption by food and tobacco</td>\n",
              "      <td>2010</td>\n",
              "      <td>Terajoules</td>\n",
              "      <td>159.12</td>\n",
              "      <td>NaN</td>\n",
              "      <td>animal_waste</td>\n",
              "    </tr>\n",
              "    <tr>\n",
              "      <th>...</th>\n",
              "      <td>...</td>\n",
              "      <td>...</td>\n",
              "      <td>...</td>\n",
              "      <td>...</td>\n",
              "      <td>...</td>\n",
              "      <td>...</td>\n",
              "      <td>...</td>\n",
              "    </tr>\n",
              "    <tr>\n",
              "      <th>1189092</th>\n",
              "      <td>Philippines</td>\n",
              "      <td>Electricity - total wind production</td>\n",
              "      <td>2005</td>\n",
              "      <td>Kilowatt-hours, million</td>\n",
              "      <td>55.00</td>\n",
              "      <td>1.0</td>\n",
              "      <td>wind_electricity</td>\n",
              "    </tr>\n",
              "    <tr>\n",
              "      <th>1189093</th>\n",
              "      <td>Philippines</td>\n",
              "      <td>Electricity - total wind production</td>\n",
              "      <td>2004</td>\n",
              "      <td>Kilowatt-hours, million</td>\n",
              "      <td>0.00</td>\n",
              "      <td>NaN</td>\n",
              "      <td>wind_electricity</td>\n",
              "    </tr>\n",
              "    <tr>\n",
              "      <th>1189094</th>\n",
              "      <td>Philippines</td>\n",
              "      <td>Electricity - total wind production</td>\n",
              "      <td>2003</td>\n",
              "      <td>Kilowatt-hours, million</td>\n",
              "      <td>0.00</td>\n",
              "      <td>NaN</td>\n",
              "      <td>wind_electricity</td>\n",
              "    </tr>\n",
              "    <tr>\n",
              "      <th>1189095</th>\n",
              "      <td>Philippines</td>\n",
              "      <td>Electricity - total wind production</td>\n",
              "      <td>2002</td>\n",
              "      <td>Kilowatt-hours, million</td>\n",
              "      <td>0.00</td>\n",
              "      <td>NaN</td>\n",
              "      <td>wind_electricity</td>\n",
              "    </tr>\n",
              "    <tr>\n",
              "      <th>1189096</th>\n",
              "      <td>Philippines</td>\n",
              "      <td>Electricity - total wind production</td>\n",
              "      <td>2001</td>\n",
              "      <td>Kilowatt-hours, million</td>\n",
              "      <td>0.00</td>\n",
              "      <td>NaN</td>\n",
              "      <td>wind_electricity</td>\n",
              "    </tr>\n",
              "  </tbody>\n",
              "</table>\n",
              "<p>7322 rows × 7 columns</p>\n",
              "</div>"
            ],
            "text/plain": [
              "        country_or_area  ...          category\n",
              "3051        Philippines  ...      animal_waste\n",
              "3052        Philippines  ...      animal_waste\n",
              "3053        Philippines  ...      animal_waste\n",
              "3054        Philippines  ...      animal_waste\n",
              "3055        Philippines  ...      animal_waste\n",
              "...                 ...  ...               ...\n",
              "1189092     Philippines  ...  wind_electricity\n",
              "1189093     Philippines  ...  wind_electricity\n",
              "1189094     Philippines  ...  wind_electricity\n",
              "1189095     Philippines  ...  wind_electricity\n",
              "1189096     Philippines  ...  wind_electricity\n",
              "\n",
              "[7322 rows x 7 columns]"
            ]
          },
          "metadata": {
            "tags": []
          },
          "execution_count": 48
        }
      ]
    },
    {
      "cell_type": "code",
      "metadata": {
        "id": "zP3Y9Mlng9R2"
      },
      "source": [
        "PH_wind = philippines_df[philippines_df[\"commodity_transaction\"] == \"Electricity - total wind production\"].sort_values(\"year\")\n",
        "PH_solar = philippines_df[philippines_df[\"commodity_transaction\"] == \"Electricity - total solar production\"].sort_values(\"year\")\n",
        "PH_thermal = philippines_df[philippines_df[\"commodity_transaction\"] == \"Electricity - total geothermal production\"].sort_values(\"year\")\n",
        "PH_hydro = philippines_df[philippines_df[\"commodity_transaction\"] == \"Electricity - total hydro production\"].sort_values(\"year\")\n"
      ],
      "execution_count": 109,
      "outputs": []
    },
    {
      "cell_type": "code",
      "metadata": {
        "colab": {
          "base_uri": "https://localhost:8080/",
          "height": 659
        },
        "id": "YVnE6LYhmSi8",
        "outputId": "f4dacd68-7e83-4392-e1d2-c0e036a3823e"
      },
      "source": [
        "plt.figure(figsize=(15,10))\n",
        "plt.xticks( fontsize=16)\n",
        "plt.yticks( fontsize=16)\n",
        "plt.plot(PH_wind[\"year\"], PH_wind[\"quantity\"])\n",
        "plt.title(\"Total Wind Production in the Philippines\", fontsize=20)\n",
        "plt.ylabel(\"Millions of Kilowatts-Hour\", fontsize=20)\n",
        "plt.xlabel(\"Year\",fontsize=20)"
      ],
      "execution_count": 83,
      "outputs": [
        {
          "output_type": "execute_result",
          "data": {
            "text/plain": [
              "Text(0.5, 0, 'Year')"
            ]
          },
          "metadata": {
            "tags": []
          },
          "execution_count": 83
        },
        {
          "output_type": "display_data",
          "data": {
            "image/png": "[encoded data removed]",
            "text/plain": [
              "<Figure size 1080x720 with 1 Axes>"
            ]
          },
          "metadata": {
            "tags": [],
            "needs_background": "light"
          }
        }
      ]
    },
    {
      "cell_type": "code",
      "metadata": {
        "colab": {
          "base_uri": "https://localhost:8080/",
          "height": 659
        },
        "id": "-AO6d6Ey1Rin",
        "outputId": "bc2e0172-50dd-4911-e5b0-f067a974c0de"
      },
      "source": [
        "plt.figure(figsize=(15,10))\n",
        "plt.xticks( fontsize=16)\n",
        "plt.yticks( fontsize=16)\n",
        "plt.plot(PH_solar[\"year\"], PH_solar[\"quantity\"])\n",
        "plt.title(\"Total Solar Production in the Philippines\", fontsize=20)\n",
        "plt.ylabel(\"Millions of Kilowatts-Hour\", fontsize=20)\n",
        "plt.xlabel(\"Year\",fontsize=20)"
      ],
      "execution_count": 105,
      "outputs": [
        {
          "output_type": "execute_result",
          "data": {
            "text/plain": [
              "Text(0.5, 0, 'Year')"
            ]
          },
          "metadata": {
            "tags": []
          },
          "execution_count": 105
        },
        {
          "output_type": "display_data",
          "data": {
            "image/png": "[encoded data removed]",
            "text/plain": [
              "<Figure size 1080x720 with 1 Axes>"
            ]
          },
          "metadata": {
            "tags": [],
            "needs_background": "light"
          }
        }
      ]
    },
    {
      "cell_type": "code",
      "metadata": {
        "colab": {
          "base_uri": "https://localhost:8080/",
          "height": 659
        },
        "id": "Zrqf11Is1jTG",
        "outputId": "04807e5b-01f3-401e-886b-736e84de5848"
      },
      "source": [
        "plt.figure(figsize=(15,10))\n",
        "plt.xticks( fontsize=16)\n",
        "plt.yticks( fontsize=16)\n",
        "plt.plot(PH_hydro[\"year\"], PH_hydro[\"quantity\"])\n",
        "plt.title(\"Total Hydro Production in the Philippines\", fontsize=20)\n",
        "plt.ylabel(\"Millions of Kilowatts-Hour\", fontsize=20)\n",
        "plt.xlabel(\"Year\",fontsize=20)"
      ],
      "execution_count": 107,
      "outputs": [
        {
          "output_type": "execute_result",
          "data": {
            "text/plain": [
              "Text(0.5, 0, 'Year')"
            ]
          },
          "metadata": {
            "tags": []
          },
          "execution_count": 107
        },
        {
          "output_type": "display_data",
          "data": {
            "image/png": "[encoded data removed]",
            "text/plain": [
              "<Figure size 1080x720 with 1 Axes>"
            ]
          },
          "metadata": {
            "tags": [],
            "needs_background": "light"
          }
        }
      ]
    },
    {
      "cell_type": "code",
      "metadata": {
        "colab": {
          "base_uri": "https://localhost:8080/",
          "height": 659
        },
        "id": "TO-KduS-11Qq",
        "outputId": "16198714-8e24-4490-ee7b-3024a107fb22"
      },
      "source": [
        "plt.figure(figsize=(15,10))\n",
        "plt.xticks( fontsize=16)\n",
        "plt.yticks( fontsize=16)\n",
        "plt.plot(PH_thermal[\"year\"], PH_thermal[\"quantity\"])\n",
        "plt.title(\"Total Geothermal Production in the Philippines\", fontsize=20)\n",
        "plt.ylabel(\"Millions of Kilowatts-Hour\", fontsize=20)\n",
        "plt.xlabel(\"Year\",fontsize=20)"
      ],
      "execution_count": 108,
      "outputs": [
        {
          "output_type": "execute_result",
          "data": {
            "text/plain": [
              "Text(0.5, 0, 'Year')"
            ]
          },
          "metadata": {
            "tags": []
          },
          "execution_count": 108
        },
        {
          "output_type": "display_data",
          "data": {
            "image/png": "[encoded data removed]",
            "text/plain": [
              "<Figure size 1080x720 with 1 Axes>"
            ]
          },
          "metadata": {
            "tags": [],
            "needs_background": "light"
          }
        }
      ]
    }
  ]
}