{
  "nbformat": 4,
  "nbformat_minor": 0,
  "metadata": {
    "colab": {
      "name": "AIDA 58025 de Guzman - Revisiting Python",
      "provenance": [],
      "authorship_tag": "ABX9TyPbTz/JdJKENo28IAOLeEnk",
      "include_colab_link": true
    },
    "kernelspec": {
      "name": "python3",
      "display_name": "Python 3"
    }
  },
  "cells": [
    {
      "cell_type": "markdown",
      "metadata": {
        "id": "view-in-github",
        "colab_type": "text"
      },
      "source": [
        "<a href=\"https://colab.research.google.com/github/karldeguzman32/AI-Data-Analytics/blob/main/Week1/AIDA_58025_de_Guzman_Revisiting_Python.ipynb\" target=\"_parent\"><img src=\"https://colab.research.google.com/assets/colab-badge.svg\" alt=\"Open In Colab\"/></a>"
      ]
    },
    {
      "cell_type": "markdown",
      "metadata": {
        "id": "hpdGAoDz79e8"
      },
      "source": [
        "# Revisiting Python\r\n",
        "© K.A. de Guzman (2021)\r\n",
        "This notebook discusses the basic and intermediate Python coding principles and coding design"
      ]
    },
    {
      "cell_type": "markdown",
      "metadata": {
        "id": "tRYknF3E8xX0"
      },
      "source": [
        "## Part 1: Programming Logic and Design\r\n",
        "In this section, we will revisit Programming Logic and Design using the Python Language"
      ]
    },
    {
      "cell_type": "markdown",
      "metadata": {
        "id": "FOmKNuVQ8-lq"
      },
      "source": [
        "### 1.1 Variables and Printing Values"
      ]
    },
    {
      "cell_type": "code",
      "metadata": {
        "colab": {
          "base_uri": "https://localhost:8080/"
        },
        "id": "uDywatdI9U09",
        "outputId": "b486721e-a65e-4d2b-fdd4-5b48ea15c6cc"
      },
      "source": [
        "x = 2\r\n",
        "print(x)\r\n",
        "print(type(x))\r\n",
        "print(\"The data type of x is\", type(x), \"and its value is\", x, \".\")"
      ],
      "execution_count": 5,
      "outputs": [
        {
          "output_type": "stream",
          "text": [
            "2\n",
            "<class 'int'>\n",
            "The data type of x is <class 'int'> and its value is 2 .\n"
          ],
          "name": "stdout"
        }
      ]
    },
    {
      "cell_type": "code",
      "metadata": {
        "id": "ueKjqZey9ZP5"
      },
      "source": [
        ""
      ],
      "execution_count": null,
      "outputs": []
    }
  ]
}